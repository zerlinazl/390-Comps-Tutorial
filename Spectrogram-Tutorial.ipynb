{
 "cells": [
  {
   "cell_type": "markdown",
   "id": "fd1a5f69",
   "metadata": {},
   "source": [
    "# Import Libraries"
   ]
  },
  {
   "cell_type": "code",
   "execution_count": 2,
   "id": "1b4e3610",
   "metadata": {},
   "outputs": [
    {
     "ename": "ModuleNotFoundError",
     "evalue": "No module named 'librosa'",
     "output_type": "error",
     "traceback": [
      "\u001b[0;31m---------------------------------------------------------------------------\u001b[0m",
      "\u001b[0;31mModuleNotFoundError\u001b[0m                       Traceback (most recent call last)",
      "Cell \u001b[0;32mIn[2], line 2\u001b[0m\n\u001b[1;32m      1\u001b[0m \u001b[38;5;28;01mimport\u001b[39;00m \u001b[38;5;21;01mos\u001b[39;00m\n\u001b[0;32m----> 2\u001b[0m \u001b[38;5;28;01mimport\u001b[39;00m \u001b[38;5;21;01mlibrosa\u001b[39;00m\n\u001b[1;32m      3\u001b[0m \u001b[38;5;28;01mimport\u001b[39;00m \u001b[38;5;21;01mlibrosa\u001b[39;00m\u001b[38;5;21;01m.\u001b[39;00m\u001b[38;5;21;01mdisplay\u001b[39;00m\n\u001b[1;32m      4\u001b[0m \u001b[38;5;28;01mimport\u001b[39;00m \u001b[38;5;21;01mIPython\u001b[39;00m\u001b[38;5;21;01m.\u001b[39;00m\u001b[38;5;21;01mdisplay\u001b[39;00m \u001b[38;5;28;01mas\u001b[39;00m \u001b[38;5;21;01mipd\u001b[39;00m\n",
      "\u001b[0;31mModuleNotFoundError\u001b[0m: No module named 'librosa'"
     ]
    }
   ],
   "source": [
    "import os\n",
    "import librosa\n",
    "import librosa.display\n",
    "import IPython.display as ipd\n",
    "import numpy as np\n",
    "import matplotlib.pyplot as plt"
   ]
  },
  {
   "cell_type": "markdown",
   "id": "257658cc",
   "metadata": {},
   "source": [
    "# Load Audio Files\n",
    "These audio files are not provided in the Librosa library. Load them from the folder provided."
   ]
  },
  {
   "cell_type": "code",
   "execution_count": null,
   "id": "db930f35",
   "metadata": {},
   "outputs": [],
   "source": [
    "scale_file = \"audio/scale.wav\"\n",
    "debussy_file = \"audio/debussy.wav\"\n",
    "redhot_file = \"audio/redhot.wav\"\n",
    "duke_file = \"audio/duke.wav\""
   ]
  },
  {
   "cell_type": "code",
   "execution_count": null,
   "id": "f8d185e4",
   "metadata": {},
   "outputs": [],
   "source": [
    "ipd.Audio(scale_file)\n",
    "ipd.Audio(debussy_file)\n",
    "ipd.Audio(redhot_file)\n",
    "ipd.Audio(duke_file)"
   ]
  },
  {
   "cell_type": "code",
   "execution_count": null,
   "id": "e65d004f",
   "metadata": {},
   "outputs": [],
   "source": [
    "# load audio files with librosa\n",
    "scale, sr = librosa.load(scale_file)\n",
    "debussy, _ = librosa.load(debussy_file)\n",
    "redhot, _ = librosa.load(redhot_file)\n",
    "duke, _ = librosa.load(duke_file)"
   ]
  },
  {
   "cell_type": "markdown",
   "id": "57c4ee96",
   "metadata": {},
   "source": [
    "# Short-Time Fourier Transform"
   ]
  },
  {
   "cell_type": "code",
   "execution_count": null,
   "id": "0e56c4d3",
   "metadata": {},
   "outputs": [],
   "source": [
    "FRAME_SIZE = 2048\n",
    "HOP_SIZE = 512"
   ]
  },
  {
   "cell_type": "code",
   "execution_count": null,
   "id": "e117dbf3",
   "metadata": {},
   "outputs": [],
   "source": [
    "S_scale = librosa.stft(scale, n_fft=FRAME_SIZE, hop_length=HOP_SIZE)"
   ]
  },
  {
   "cell_type": "code",
   "execution_count": null,
   "id": "633b710d",
   "metadata": {},
   "outputs": [],
   "source": [
    "# info about the stft\n",
    "S_scale.shape"
   ]
  },
  {
   "cell_type": "code",
   "execution_count": null,
   "id": "25e40369",
   "metadata": {},
   "outputs": [],
   "source": [
    "type(S_scale[0][0])"
   ]
  },
  {
   "cell_type": "markdown",
   "id": "d2097a31",
   "metadata": {},
   "source": [
    "# Spectrogram Calculations"
   ]
  },
  {
   "cell_type": "code",
   "execution_count": null,
   "id": "00d5fedf",
   "metadata": {},
   "outputs": [],
   "source": [
    "Y_scale = np.abs(S_scale) ** 2\n",
    "\n",
    "# print info\n",
    "Y_scale.shape"
   ]
  },
  {
   "cell_type": "code",
   "execution_count": null,
   "id": "afebe145",
   "metadata": {},
   "outputs": [],
   "source": [
    "type(Y_scale[0][0])"
   ]
  },
  {
   "cell_type": "markdown",
   "id": "c5473135",
   "metadata": {},
   "source": [
    "# Plot Spectrogram"
   ]
  },
  {
   "cell_type": "code",
   "execution_count": null,
   "id": "1041ba7e",
   "metadata": {},
   "outputs": [],
   "source": [
    "def plot_spectrogram(Y, sr, hop_length, y_axis=\"linear\"):\n",
    "    plt.figure(figsize=(25, 10))\n",
    "    librosa.display.specshow(Y, \n",
    "                             sr=sr, \n",
    "                             hop_length=hop_length, \n",
    "                             x_axis=\"time\", \n",
    "                             y_axis=y_axis)\n",
    "    plt.colorbar(format=\"%+2.f\")"
   ]
  },
  {
   "cell_type": "code",
   "execution_count": null,
   "id": "c5e95b5e",
   "metadata": {},
   "outputs": [],
   "source": [
    "plot_spectrogram(Y_scale, sr, HOP_SIZE)"
   ]
  },
  {
   "cell_type": "markdown",
   "id": "53de1017",
   "metadata": {},
   "source": [
    "## Log Amplitude Spectrogram"
   ]
  },
  {
   "cell_type": "code",
   "execution_count": null,
   "id": "e066dee7",
   "metadata": {},
   "outputs": [],
   "source": [
    "Y_log_scale = librosa.power_to_db(Y_scale)\n",
    "plot_spectrogram(Y_log_scale, sr, HOP_SIZE)"
   ]
  },
  {
   "cell_type": "markdown",
   "id": "8ce73fb8",
   "metadata": {},
   "source": [
    "## Log Frequency Spectrogram"
   ]
  },
  {
   "cell_type": "code",
   "execution_count": null,
   "id": "af6b8d57",
   "metadata": {},
   "outputs": [],
   "source": [
    "plot_spectrogram(Y_log_scale, sr, HOP_SIZE, y_axis=\"log\")"
   ]
  },
  {
   "cell_type": "markdown",
   "id": "36965fc7",
   "metadata": {},
   "source": [
    "# Songs from Different Genres"
   ]
  },
  {
   "cell_type": "code",
   "execution_count": null,
   "id": "b36bf151",
   "metadata": {},
   "outputs": [],
   "source": [
    "S_debussy = librosa.stft(debussy, n_fft=FRAME_SIZE, hop_length=HOP_SIZE)\n",
    "S_redhot = librosa.stft(redhot, n_fft=FRAME_SIZE, hop_length=HOP_SIZE)\n",
    "S_duke = librosa.stft(duke, n_fft=FRAME_SIZE, hop_length=HOP_SIZE)\n",
    "\n",
    "\n",
    "Y_debussy = librosa.power_to_db(np.abs(S_debussy) ** 2)\n",
    "Y_redhot = librosa.power_to_db(np.abs(S_redhot) ** 2)\n",
    "Y_duke = librosa.power_to_db(np.abs(S_duke) ** 2)\n",
    "\n",
    "plot_spectrogram(Y_debussy, sr, HOP_SIZE, y_axis=\"log\")\n",
    "plot_spectrogram(Y_redhot, sr, HOP_SIZE, y_axis=\"log\")\n",
    "plot_spectrogram(Y_duke, sr, HOP_SIZE, y_axis=\"log\")"
   ]
  }
 ],
 "metadata": {
  "kernelspec": {
   "display_name": "Python 3 (ipykernel)",
   "language": "python",
   "name": "python3"
  },
  "language_info": {
   "codemirror_mode": {
    "name": "ipython",
    "version": 3
   },
   "file_extension": ".py",
   "mimetype": "text/x-python",
   "name": "python",
   "nbconvert_exporter": "python",
   "pygments_lexer": "ipython3",
   "version": "3.9.7"
  }
 },
 "nbformat": 4,
 "nbformat_minor": 5
}
